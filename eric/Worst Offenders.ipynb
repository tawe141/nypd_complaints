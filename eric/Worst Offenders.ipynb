{
 "cells": [
  {
   "cell_type": "code",
   "execution_count": 1,
   "metadata": {},
   "outputs": [],
   "source": [
    "import pandas as pd\n",
    "import matplotlib.pyplot as plt\n",
    "import seaborn as sns"
   ]
  },
  {
   "cell_type": "code",
   "execution_count": 2,
   "metadata": {},
   "outputs": [],
   "source": [
    "df = pd.read_csv('../data/allegations_20200726939.csv', index_col='complaint_id')"
   ]
  },
  {
   "cell_type": "code",
   "execution_count": 3,
   "metadata": {},
   "outputs": [
    {
     "name": "stdout",
     "output_type": "stream",
     "text": [
      "<class 'pandas.core.frame.DataFrame'>\n",
      "Int64Index: 33358 entries, 42835 to 35671\n",
      "Data columns (total 25 columns):\n",
      " #   Column                    Non-Null Count  Dtype  \n",
      "---  ------                    --------------  -----  \n",
      " 0   unique_mos_id             33358 non-null  int64  \n",
      " 1   first_name                33358 non-null  object \n",
      " 2   last_name                 33358 non-null  object \n",
      " 3   command_now               33358 non-null  object \n",
      " 4   month_received            33358 non-null  int64  \n",
      " 5   year_received             33358 non-null  int64  \n",
      " 6   month_closed              33358 non-null  int64  \n",
      " 7   year_closed               33358 non-null  int64  \n",
      " 8   command_at_incident       31814 non-null  object \n",
      " 9   rank_abbrev_incident      33358 non-null  object \n",
      " 10  rank_abbrev_now           33358 non-null  object \n",
      " 11  rank_now                  33358 non-null  object \n",
      " 12  rank_incident             33358 non-null  object \n",
      " 13  mos_ethnicity             33358 non-null  object \n",
      " 14  mos_gender                33358 non-null  object \n",
      " 15  mos_age_incident          33358 non-null  int64  \n",
      " 16  complainant_ethnicity     28894 non-null  object \n",
      " 17  complainant_gender        29163 non-null  object \n",
      " 18  complainant_age_incident  28546 non-null  float64\n",
      " 19  fado_type                 33358 non-null  object \n",
      " 20  allegation                33357 non-null  object \n",
      " 21  precinct                  33334 non-null  float64\n",
      " 22  contact_reason            33159 non-null  object \n",
      " 23  outcome_description       33302 non-null  object \n",
      " 24  board_disposition         33358 non-null  object \n",
      "dtypes: float64(2), int64(6), object(17)\n",
      "memory usage: 6.6+ MB\n"
     ]
    }
   ],
   "source": [
    "df.info()"
   ]
  },
  {
   "cell_type": "code",
   "execution_count": 4,
   "metadata": {},
   "outputs": [
    {
     "data": {
      "text/plain": [
       "(Timestamp('1985-09-01 00:00:00'), Timestamp('2020-01-01 00:00:00'))"
      ]
     },
     "execution_count": 4,
     "metadata": {},
     "output_type": "execute_result"
    }
   ],
   "source": [
    "df['dt_received'] = pd.to_datetime(df['month_received'].astype(str) + '/' + df['year_received'].astype(str), format='%m/%Y')\n",
    "df['dt_closed'] = pd.to_datetime(df['month_closed'].astype(str) + '/' + df['year_closed'].astype(str), format='%m/%Y')\n",
    "df['dt_received'].min(), df['dt_received'].max()"
   ]
  },
  {
   "cell_type": "markdown",
   "metadata": {},
   "source": [
    "33,358 complaints that start at September, 1985 and end at January, 2020."
   ]
  },
  {
   "cell_type": "code",
   "execution_count": 5,
   "metadata": {},
   "outputs": [
    {
     "data": {
      "text/plain": [
       "Daniel Sbarra           75\n",
       "Mathew Reich            75\n",
       "Gary Messina            73\n",
       "Joseph Tallarine        73\n",
       "Christophe Mccormack    72\n",
       "William Taylor          65\n",
       "David Cheesewright      63\n",
       "Mike Civil              56\n",
       "Paul Mcmahon            56\n",
       "Michael Raso            50\n",
       "Robert Delaney          47\n",
       "Trevor Baronette        47\n",
       "Matthew Lewis           47\n",
       "David Grieco            46\n",
       "Michael Miller          46\n",
       "Michael Ernst           45\n",
       "Kevin Martin            45\n",
       "Ricardo Bocachica       45\n",
       "John Rajan              44\n",
       "Kevin Matthews          44\n",
       "Robert Henderson        44\n",
       "Nikolaos Stefopoulos    44\n",
       "Henry Daverin           44\n",
       "John Todaro             44\n",
       "Dion Edwards            43\n",
       "Name: name, dtype: int64"
      ]
     },
     "execution_count": 5,
     "metadata": {},
     "output_type": "execute_result"
    }
   ],
   "source": [
    "df['name'] = df['first_name'] + ' ' + df['last_name']\n",
    "df['name'].value_counts().sort_values(ascending=False).head(25)"
   ]
  },
  {
   "cell_type": "code",
   "execution_count": 6,
   "metadata": {},
   "outputs": [
    {
     "data": {
      "text/plain": [
       "<matplotlib.axes._subplots.AxesSubplot at 0x1098b06a0>"
      ]
     },
     "execution_count": 6,
     "metadata": {},
     "output_type": "execute_result"
    },
    {
     "data": {
      "image/png": "[encoded data removed]",
      "text/plain": [
       "<Figure size 432x288 with 1 Axes>"
      ]
     },
     "metadata": {
      "needs_background": "light"
     },
     "output_type": "display_data"
    }
   ],
   "source": [
    "sns.distplot(df['name'].value_counts())"
   ]
  },
  {
   "cell_type": "code",
   "execution_count": 7,
   "metadata": {},
   "outputs": [
    {
     "data": {
      "text/plain": [
       "283"
      ]
     },
     "execution_count": 7,
     "metadata": {},
     "output_type": "execute_result"
    }
   ],
   "source": [
    "sum(df['name'].value_counts() > 20)"
   ]
  },
  {
   "cell_type": "markdown",
   "metadata": {},
   "source": [
    "# Substantiated Claims\n",
    "\n",
    "Who are the officers with the most substantiated claims? These are complaints that the Civilian Complaint Review Board (CCRB) of NYC were able to investigate and find evidence for a violation of NYPD rules. This does not necessarily mean officers were punished for these violations, as this is not the jurisdiction of the CCRB. \n",
    "\n",
    "In the `board_disposition` column, each claim is categorized as Substantiated, Exonerated, or Unsubstantiated. For all substantiated claims, the CCRB also recommends the type of discipline. "
   ]
  },
  {
   "cell_type": "code",
   "execution_count": 8,
   "metadata": {},
   "outputs": [
    {
     "data": {
      "text/plain": [
       "complaint_id\n",
       "42835    Substantiated (Command Lvl Instructions)\n",
       "24601                     Substantiated (Charges)\n",
       "24601                     Substantiated (Charges)\n",
       "26146                     Substantiated (Charges)\n",
       "40253        Substantiated (Command Discipline A)\n",
       "                           ...                   \n",
       "35671                             Unsubstantiated\n",
       "35671                             Unsubstantiated\n",
       "35671         Substantiated (Formalized Training)\n",
       "35671         Substantiated (Formalized Training)\n",
       "35671         Substantiated (Formalized Training)\n",
       "Name: board_disposition, Length: 33358, dtype: object"
      ]
     },
     "execution_count": 8,
     "metadata": {},
     "output_type": "execute_result"
    }
   ],
   "source": [
    "df['board_disposition']"
   ]
  },
  {
   "cell_type": "code",
   "execution_count": 9,
   "metadata": {},
   "outputs": [
    {
     "name": "stdout",
     "output_type": "stream",
     "text": [
      "24.88 percent of claims were substantiated by the CCRB.\n"
     ]
    }
   ],
   "source": [
    "substantiated = df[df['board_disposition'].apply(lambda x: 'Substantiated' in x)]\n",
    "print('%.2f percent of claims were substantiated by the CCRB.' % (len(substantiated) / len(df) * 100))"
   ]
  },
  {
   "cell_type": "code",
   "execution_count": 14,
   "metadata": {},
   "outputs": [
    {
     "data": {
      "text/plain": [
       "Joseph Tallarine        23\n",
       "Robert Henderson        21\n",
       "Kevin Martin            18\n",
       "Derrick Kreckmann       17\n",
       "David Cheesewright      16\n",
       "Christophe Mccormack    16\n",
       "Daniel Sbarra           16\n",
       "Jamaal Miller           15\n",
       "Dustin Genco            14\n",
       "Charles Cavallaro       14\n",
       "Michael Raso            14\n",
       "Gary Calhoun            14\n",
       "Michael Dicecco         13\n",
       "Paul Chierico           12\n",
       "Scott Hampton           12\n",
       "Patrick Hennessy        12\n",
       "Joseph Castaldo         12\n",
       "James Slavin            11\n",
       "Carlos Fabara           11\n",
       "David Leonardi          11\n",
       "Christophe Greiner      11\n",
       "Robert Nugent           11\n",
       "Risel Martinez          10\n",
       "Angel Gonzalez          10\n",
       "Ted Saintgerard         10\n",
       "Name: name, dtype: int64"
      ]
     },
     "execution_count": 14,
     "metadata": {},
     "output_type": "execute_result"
    }
   ],
   "source": [
    "substantiated['name'].value_counts().sort_values(ascending=False).head(25)"
   ]
  },
  {
   "cell_type": "markdown",
   "metadata": {},
   "source": [
    "Let's see what the distribution of substantiated complaints looks like. "
   ]
  },
  {
   "cell_type": "code",
   "execution_count": 11,
   "metadata": {},
   "outputs": [
    {
     "data": {
      "text/plain": [
       "<matplotlib.axes._subplots.AxesSubplot at 0x11e147520>"
      ]
     },
     "execution_count": 11,
     "metadata": {},
     "output_type": "execute_result"
    },
    {
     "data": {
      "image/png": "[encoded data removed]",
      "text/plain": [
       "<Figure size 432x288 with 1 Axes>"
      ]
     },
     "metadata": {
      "needs_background": "light"
     },
     "output_type": "display_data"
    }
   ],
   "source": [
    "sns.distplot(substantiated['name'].value_counts())"
   ]
  },
  {
   "cell_type": "code",
   "execution_count": 24,
   "metadata": {},
   "outputs": [
    {
     "data": {
      "text/plain": [
       "414"
      ]
     },
     "execution_count": 24,
     "metadata": {},
     "output_type": "execute_result"
    }
   ],
   "source": [
    "n = substantiated['name'].value_counts()\n",
    "n = n[n >= 10]\n",
    "top_substantiated = substantiated[substantiated['name'].isin(n.index)]\n",
    "len(top_substantiated)"
   ]
  },
  {
   "cell_type": "code",
   "execution_count": 27,
   "metadata": {},
   "outputs": [
    {
     "data": {
      "text/plain": [
       "complaint_id\n",
       "11354   2006-05-01\n",
       "11354   2006-05-01\n",
       "11354   2006-05-01\n",
       "21995   2010-11-01\n",
       "21995   2010-11-01\n",
       "           ...    \n",
       "17528   2009-02-01\n",
       "17528   2009-02-01\n",
       "17528   2009-02-01\n",
       "28122   2013-05-01\n",
       "32425   2015-04-01\n",
       "Name: dt_received, Length: 414, dtype: datetime64[ns]"
      ]
     },
     "execution_count": 27,
     "metadata": {},
     "output_type": "execute_result"
    }
   ],
   "source": [
    "top_substantiated['dt_received']"
   ]
  },
  {
   "cell_type": "markdown",
   "metadata": {},
   "source": [
    "## Time of report"
   ]
  },
  {
   "cell_type": "code",
   "execution_count": 33,
   "metadata": {},
   "outputs": [
    {
     "data": {
      "text/plain": [
       "Text(0, 0.5, 'count')"
      ]
     },
     "execution_count": 33,
     "metadata": {},
     "output_type": "execute_result"
    },
    {
     "data": {
      "image/png": "[encoded data removed]",
      "text/plain": [
       "<Figure size 1008x720 with 1 Axes>"
      ]
     },
     "metadata": {
      "needs_background": "light"
     },
     "output_type": "display_data"
    }
   ],
   "source": [
    "plt.figure(figsize=(14, 10))\n",
    "x = top_substantiated['year_received'].value_counts().sort_index()\n",
    "sns.barplot(x.index, x.values)\n",
    "plt.xlabel('year')\n",
    "plt.ylabel('count')"
   ]
  },
  {
   "cell_type": "markdown",
   "metadata": {},
   "source": [
    "## FADO Type"
   ]
  },
  {
   "cell_type": "code",
   "execution_count": 35,
   "metadata": {},
   "outputs": [
    {
     "data": {
      "text/plain": [
       "<matplotlib.axes._subplots.AxesSubplot at 0x121d763a0>"
      ]
     },
     "execution_count": 35,
     "metadata": {},
     "output_type": "execute_result"
    },
    {
     "data": {
      "image/png": "[encoded data removed]",
      "text/plain": [
       "<Figure size 432x288 with 1 Axes>"
      ]
     },
     "metadata": {
      "needs_background": "light"
     },
     "output_type": "display_data"
    }
   ],
   "source": [
    "sns.countplot(top_substantiated['fado_type'])"
   ]
  },
  {
   "cell_type": "markdown",
   "metadata": {},
   "source": [
    "Of the top substantiated offenders, most complaints fall under abuse of authority. "
   ]
  },
  {
   "cell_type": "code",
   "execution_count": 37,
   "metadata": {},
   "outputs": [
    {
     "data": {
      "text/html": [
       "<div>\n",
       "<style scoped>\n",
       "    .dataframe tbody tr th:only-of-type {\n",
       "        vertical-align: middle;\n",
       "    }\n",
       "\n",
       "    .dataframe tbody tr th {\n",
       "        vertical-align: top;\n",
       "    }\n",
       "\n",
       "    .dataframe thead th {\n",
       "        text-align: right;\n",
       "    }\n",
       "</style>\n",
       "<table border=\"1\" class=\"dataframe\">\n",
       "  <thead>\n",
       "    <tr style=\"text-align: right;\">\n",
       "      <th></th>\n",
       "      <th></th>\n",
       "      <th>allegation</th>\n",
       "    </tr>\n",
       "    <tr>\n",
       "      <th>name</th>\n",
       "      <th>fado_type</th>\n",
       "      <th></th>\n",
       "    </tr>\n",
       "  </thead>\n",
       "  <tbody>\n",
       "    <tr>\n",
       "      <th rowspan=\"3\" valign=\"top\">Alberto Angilletta</th>\n",
       "      <th>Abuse of Authority</th>\n",
       "      <td>8</td>\n",
       "    </tr>\n",
       "    <tr>\n",
       "      <th>Discourtesy</th>\n",
       "      <td>1</td>\n",
       "    </tr>\n",
       "    <tr>\n",
       "      <th>Offensive Language</th>\n",
       "      <td>1</td>\n",
       "    </tr>\n",
       "    <tr>\n",
       "      <th rowspan=\"2\" valign=\"top\">Angel Gonzalez</th>\n",
       "      <th>Abuse of Authority</th>\n",
       "      <td>9</td>\n",
       "    </tr>\n",
       "    <tr>\n",
       "      <th>Discourtesy</th>\n",
       "      <td>1</td>\n",
       "    </tr>\n",
       "    <tr>\n",
       "      <th>...</th>\n",
       "      <th>...</th>\n",
       "      <td>...</td>\n",
       "    </tr>\n",
       "    <tr>\n",
       "      <th>Scott Hampton</th>\n",
       "      <th>Force</th>\n",
       "      <td>1</td>\n",
       "    </tr>\n",
       "    <tr>\n",
       "      <th rowspan=\"4\" valign=\"top\">Ted Saintgerard</th>\n",
       "      <th>Abuse of Authority</th>\n",
       "      <td>2</td>\n",
       "    </tr>\n",
       "    <tr>\n",
       "      <th>Discourtesy</th>\n",
       "      <td>4</td>\n",
       "    </tr>\n",
       "    <tr>\n",
       "      <th>Force</th>\n",
       "      <td>3</td>\n",
       "    </tr>\n",
       "    <tr>\n",
       "      <th>Offensive Language</th>\n",
       "      <td>1</td>\n",
       "    </tr>\n",
       "  </tbody>\n",
       "</table>\n",
       "<p>87 rows × 1 columns</p>\n",
       "</div>"
      ],
      "text/plain": [
       "                                       allegation\n",
       "name               fado_type                     \n",
       "Alberto Angilletta Abuse of Authority           8\n",
       "                   Discourtesy                  1\n",
       "                   Offensive Language           1\n",
       "Angel Gonzalez     Abuse of Authority           9\n",
       "                   Discourtesy                  1\n",
       "...                                           ...\n",
       "Scott Hampton      Force                        1\n",
       "Ted Saintgerard    Abuse of Authority           2\n",
       "                   Discourtesy                  4\n",
       "                   Force                        3\n",
       "                   Offensive Language           1\n",
       "\n",
       "[87 rows x 1 columns]"
      ]
     },
     "execution_count": 37,
     "metadata": {},
     "output_type": "execute_result"
    }
   ],
   "source": [
    "top_substantiated[['name', 'fado_type', 'allegation']].groupby(['name', 'fado_type']).count()"
   ]
  },
  {
   "cell_type": "code",
   "execution_count": null,
   "metadata": {},
   "outputs": [],
   "source": []
  }
 ],
 "metadata": {
  "kernelspec": {
   "display_name": "Python 3",
   "language": "python",
   "name": "python3"
  },
  "language_info": {
   "codemirror_mode": {
    "name": "ipython",
    "version": 3
   },
   "file_extension": ".py",
   "mimetype": "text/x-python",
   "name": "python",
   "nbconvert_exporter": "python",
   "pygments_lexer": "ipython3",
   "version": "3.8.3"
  }
 },
 "nbformat": 4,
 "nbformat_minor": 4
}
